{
 "cells": [
  {
   "cell_type": "code",
   "execution_count": 127,
   "metadata": {},
   "outputs": [],
   "source": [
    "import numpy as np\n",
    "import pandas as pd\n",
    "import yfinance as yf\n",
    "from datetime import date\n",
    "import matplotlib.pyplot as plt\n",
    "import pandas_datareader as data"
   ]
  },
  {
   "cell_type": "code",
   "execution_count": 128,
   "metadata": {},
   "outputs": [
    {
     "name": "stdout",
     "output_type": "stream",
     "text": [
      "[*********************100%***********************]  1 of 1 completed\n"
     ]
    },
    {
     "data": {
      "text/html": [
       "<div>\n",
       "<style scoped>\n",
       "    .dataframe tbody tr th:only-of-type {\n",
       "        vertical-align: middle;\n",
       "    }\n",
       "\n",
       "    .dataframe tbody tr th {\n",
       "        vertical-align: top;\n",
       "    }\n",
       "\n",
       "    .dataframe thead th {\n",
       "        text-align: right;\n",
       "    }\n",
       "</style>\n",
       "<table border=\"1\" class=\"dataframe\">\n",
       "  <thead>\n",
       "    <tr style=\"text-align: right;\">\n",
       "      <th></th>\n",
       "      <th>Open</th>\n",
       "      <th>High</th>\n",
       "      <th>Low</th>\n",
       "      <th>Close</th>\n",
       "      <th>Adj Close</th>\n",
       "      <th>Volume</th>\n",
       "    </tr>\n",
       "    <tr>\n",
       "      <th>Date</th>\n",
       "      <th></th>\n",
       "      <th></th>\n",
       "      <th></th>\n",
       "      <th></th>\n",
       "      <th></th>\n",
       "      <th></th>\n",
       "    </tr>\n",
       "  </thead>\n",
       "  <tbody>\n",
       "    <tr>\n",
       "      <th>2010-01-04</th>\n",
       "      <td>302.861145</td>\n",
       "      <td>304.927032</td>\n",
       "      <td>297.352051</td>\n",
       "      <td>298.591614</td>\n",
       "      <td>280.579376</td>\n",
       "      <td>3215431</td>\n",
       "    </tr>\n",
       "    <tr>\n",
       "      <th>2010-01-05</th>\n",
       "      <td>301.392059</td>\n",
       "      <td>304.835205</td>\n",
       "      <td>298.867065</td>\n",
       "      <td>303.320221</td>\n",
       "      <td>285.022675</td>\n",
       "      <td>4685390</td>\n",
       "    </tr>\n",
       "    <tr>\n",
       "      <th>2010-01-06</th>\n",
       "      <td>305.707489</td>\n",
       "      <td>307.727478</td>\n",
       "      <td>299.417969</td>\n",
       "      <td>300.106598</td>\n",
       "      <td>282.002991</td>\n",
       "      <td>4802900</td>\n",
       "    </tr>\n",
       "    <tr>\n",
       "      <th>2010-01-07</th>\n",
       "      <td>301.483856</td>\n",
       "      <td>306.671570</td>\n",
       "      <td>301.162506</td>\n",
       "      <td>302.447968</td>\n",
       "      <td>284.203125</td>\n",
       "      <td>4213709</td>\n",
       "    </tr>\n",
       "    <tr>\n",
       "      <th>2010-01-08</th>\n",
       "      <td>302.769318</td>\n",
       "      <td>304.330231</td>\n",
       "      <td>298.086609</td>\n",
       "      <td>298.453888</td>\n",
       "      <td>280.449982</td>\n",
       "      <td>2892365</td>\n",
       "    </tr>\n",
       "  </tbody>\n",
       "</table>\n",
       "</div>"
      ],
      "text/plain": [
       "                  Open        High         Low       Close   Adj Close  \\\n",
       "Date                                                                     \n",
       "2010-01-04  302.861145  304.927032  297.352051  298.591614  280.579376   \n",
       "2010-01-05  301.392059  304.835205  298.867065  303.320221  285.022675   \n",
       "2010-01-06  305.707489  307.727478  299.417969  300.106598  282.002991   \n",
       "2010-01-07  301.483856  306.671570  301.162506  302.447968  284.203125   \n",
       "2010-01-08  302.769318  304.330231  298.086609  298.453888  280.449982   \n",
       "\n",
       "             Volume  \n",
       "Date                 \n",
       "2010-01-04  3215431  \n",
       "2010-01-05  4685390  \n",
       "2010-01-06  4802900  \n",
       "2010-01-07  4213709  \n",
       "2010-01-08  2892365  "
      ]
     },
     "execution_count": 128,
     "metadata": {},
     "output_type": "execute_result"
    }
   ],
   "source": [
    "start = '2010-01-01'\n",
    "end   = date.today().strftime(\"%Y-%m-%d\")\n",
    "\n",
    "# df = data.DataReader('AAPL',data_source='yahoo',start=start,end=end)\n",
    "df = yf.download('BHARTIARTL.NS',start=start,end=end)\n",
    "df.head()"
   ]
  },
  {
   "cell_type": "code",
   "execution_count": 129,
   "metadata": {},
   "outputs": [
    {
     "data": {
      "text/html": [
       "<div>\n",
       "<style scoped>\n",
       "    .dataframe tbody tr th:only-of-type {\n",
       "        vertical-align: middle;\n",
       "    }\n",
       "\n",
       "    .dataframe tbody tr th {\n",
       "        vertical-align: top;\n",
       "    }\n",
       "\n",
       "    .dataframe thead th {\n",
       "        text-align: right;\n",
       "    }\n",
       "</style>\n",
       "<table border=\"1\" class=\"dataframe\">\n",
       "  <thead>\n",
       "    <tr style=\"text-align: right;\">\n",
       "      <th></th>\n",
       "      <th>Open</th>\n",
       "      <th>High</th>\n",
       "      <th>Low</th>\n",
       "      <th>Close</th>\n",
       "      <th>Adj Close</th>\n",
       "      <th>Volume</th>\n",
       "    </tr>\n",
       "    <tr>\n",
       "      <th>Date</th>\n",
       "      <th></th>\n",
       "      <th></th>\n",
       "      <th></th>\n",
       "      <th></th>\n",
       "      <th></th>\n",
       "      <th></th>\n",
       "    </tr>\n",
       "  </thead>\n",
       "  <tbody>\n",
       "    <tr>\n",
       "      <th>2023-01-19</th>\n",
       "      <td>776.000000</td>\n",
       "      <td>776.500000</td>\n",
       "      <td>765.650024</td>\n",
       "      <td>772.000000</td>\n",
       "      <td>772.000000</td>\n",
       "      <td>4169463</td>\n",
       "    </tr>\n",
       "    <tr>\n",
       "      <th>2023-01-20</th>\n",
       "      <td>775.849976</td>\n",
       "      <td>775.849976</td>\n",
       "      <td>758.299988</td>\n",
       "      <td>764.450012</td>\n",
       "      <td>764.450012</td>\n",
       "      <td>6289718</td>\n",
       "    </tr>\n",
       "    <tr>\n",
       "      <th>2023-01-23</th>\n",
       "      <td>767.900024</td>\n",
       "      <td>776.000000</td>\n",
       "      <td>763.849976</td>\n",
       "      <td>772.700012</td>\n",
       "      <td>772.700012</td>\n",
       "      <td>2685320</td>\n",
       "    </tr>\n",
       "    <tr>\n",
       "      <th>2023-01-24</th>\n",
       "      <td>773.000000</td>\n",
       "      <td>777.549988</td>\n",
       "      <td>761.000000</td>\n",
       "      <td>775.650024</td>\n",
       "      <td>775.650024</td>\n",
       "      <td>5012125</td>\n",
       "    </tr>\n",
       "    <tr>\n",
       "      <th>2023-01-25</th>\n",
       "      <td>774.950012</td>\n",
       "      <td>780.500000</td>\n",
       "      <td>768.000000</td>\n",
       "      <td>776.500000</td>\n",
       "      <td>776.500000</td>\n",
       "      <td>6560514</td>\n",
       "    </tr>\n",
       "  </tbody>\n",
       "</table>\n",
       "</div>"
      ],
      "text/plain": [
       "                  Open        High         Low       Close   Adj Close  \\\n",
       "Date                                                                     \n",
       "2023-01-19  776.000000  776.500000  765.650024  772.000000  772.000000   \n",
       "2023-01-20  775.849976  775.849976  758.299988  764.450012  764.450012   \n",
       "2023-01-23  767.900024  776.000000  763.849976  772.700012  772.700012   \n",
       "2023-01-24  773.000000  777.549988  761.000000  775.650024  775.650024   \n",
       "2023-01-25  774.950012  780.500000  768.000000  776.500000  776.500000   \n",
       "\n",
       "             Volume  \n",
       "Date                 \n",
       "2023-01-19  4169463  \n",
       "2023-01-20  6289718  \n",
       "2023-01-23  2685320  \n",
       "2023-01-24  5012125  \n",
       "2023-01-25  6560514  "
      ]
     },
     "execution_count": 129,
     "metadata": {},
     "output_type": "execute_result"
    }
   ],
   "source": [
    "df.tail()"
   ]
  },
  {
   "cell_type": "code",
   "execution_count": 130,
   "metadata": {},
   "outputs": [
    {
     "data": {
      "text/html": [
       "<div>\n",
       "<style scoped>\n",
       "    .dataframe tbody tr th:only-of-type {\n",
       "        vertical-align: middle;\n",
       "    }\n",
       "\n",
       "    .dataframe tbody tr th {\n",
       "        vertical-align: top;\n",
       "    }\n",
       "\n",
       "    .dataframe thead th {\n",
       "        text-align: right;\n",
       "    }\n",
       "</style>\n",
       "<table border=\"1\" class=\"dataframe\">\n",
       "  <thead>\n",
       "    <tr style=\"text-align: right;\">\n",
       "      <th></th>\n",
       "      <th>Date</th>\n",
       "      <th>Open</th>\n",
       "      <th>High</th>\n",
       "      <th>Low</th>\n",
       "      <th>Close</th>\n",
       "      <th>Adj Close</th>\n",
       "      <th>Volume</th>\n",
       "    </tr>\n",
       "  </thead>\n",
       "  <tbody>\n",
       "    <tr>\n",
       "      <th>0</th>\n",
       "      <td>2010-01-04</td>\n",
       "      <td>302.861145</td>\n",
       "      <td>304.927032</td>\n",
       "      <td>297.352051</td>\n",
       "      <td>298.591614</td>\n",
       "      <td>280.579376</td>\n",
       "      <td>3215431</td>\n",
       "    </tr>\n",
       "    <tr>\n",
       "      <th>1</th>\n",
       "      <td>2010-01-05</td>\n",
       "      <td>301.392059</td>\n",
       "      <td>304.835205</td>\n",
       "      <td>298.867065</td>\n",
       "      <td>303.320221</td>\n",
       "      <td>285.022675</td>\n",
       "      <td>4685390</td>\n",
       "    </tr>\n",
       "    <tr>\n",
       "      <th>2</th>\n",
       "      <td>2010-01-06</td>\n",
       "      <td>305.707489</td>\n",
       "      <td>307.727478</td>\n",
       "      <td>299.417969</td>\n",
       "      <td>300.106598</td>\n",
       "      <td>282.002991</td>\n",
       "      <td>4802900</td>\n",
       "    </tr>\n",
       "    <tr>\n",
       "      <th>3</th>\n",
       "      <td>2010-01-07</td>\n",
       "      <td>301.483856</td>\n",
       "      <td>306.671570</td>\n",
       "      <td>301.162506</td>\n",
       "      <td>302.447968</td>\n",
       "      <td>284.203125</td>\n",
       "      <td>4213709</td>\n",
       "    </tr>\n",
       "    <tr>\n",
       "      <th>4</th>\n",
       "      <td>2010-01-08</td>\n",
       "      <td>302.769318</td>\n",
       "      <td>304.330231</td>\n",
       "      <td>298.086609</td>\n",
       "      <td>298.453888</td>\n",
       "      <td>280.449982</td>\n",
       "      <td>2892365</td>\n",
       "    </tr>\n",
       "  </tbody>\n",
       "</table>\n",
       "</div>"
      ],
      "text/plain": [
       "        Date        Open        High         Low       Close   Adj Close  \\\n",
       "0 2010-01-04  302.861145  304.927032  297.352051  298.591614  280.579376   \n",
       "1 2010-01-05  301.392059  304.835205  298.867065  303.320221  285.022675   \n",
       "2 2010-01-06  305.707489  307.727478  299.417969  300.106598  282.002991   \n",
       "3 2010-01-07  301.483856  306.671570  301.162506  302.447968  284.203125   \n",
       "4 2010-01-08  302.769318  304.330231  298.086609  298.453888  280.449982   \n",
       "\n",
       "    Volume  \n",
       "0  3215431  \n",
       "1  4685390  \n",
       "2  4802900  \n",
       "3  4213709  \n",
       "4  2892365  "
      ]
     },
     "execution_count": 130,
     "metadata": {},
     "output_type": "execute_result"
    }
   ],
   "source": [
    "df = df.reset_index()\n",
    "df.head()"
   ]
  },
  {
   "cell_type": "code",
   "execution_count": 131,
   "metadata": {},
   "outputs": [],
   "source": [
    "df = df.drop(['Adj Close'],axis=1)"
   ]
  },
  {
   "cell_type": "code",
   "execution_count": 132,
   "metadata": {},
   "outputs": [
    {
     "data": {
      "text/html": [
       "<div>\n",
       "<style scoped>\n",
       "    .dataframe tbody tr th:only-of-type {\n",
       "        vertical-align: middle;\n",
       "    }\n",
       "\n",
       "    .dataframe tbody tr th {\n",
       "        vertical-align: top;\n",
       "    }\n",
       "\n",
       "    .dataframe thead th {\n",
       "        text-align: right;\n",
       "    }\n",
       "</style>\n",
       "<table border=\"1\" class=\"dataframe\">\n",
       "  <thead>\n",
       "    <tr style=\"text-align: right;\">\n",
       "      <th></th>\n",
       "      <th>Date</th>\n",
       "      <th>Open</th>\n",
       "      <th>High</th>\n",
       "      <th>Low</th>\n",
       "      <th>Close</th>\n",
       "      <th>Volume</th>\n",
       "    </tr>\n",
       "  </thead>\n",
       "  <tbody>\n",
       "    <tr>\n",
       "      <th>0</th>\n",
       "      <td>2010-01-04</td>\n",
       "      <td>302.861145</td>\n",
       "      <td>304.927032</td>\n",
       "      <td>297.352051</td>\n",
       "      <td>298.591614</td>\n",
       "      <td>3215431</td>\n",
       "    </tr>\n",
       "    <tr>\n",
       "      <th>1</th>\n",
       "      <td>2010-01-05</td>\n",
       "      <td>301.392059</td>\n",
       "      <td>304.835205</td>\n",
       "      <td>298.867065</td>\n",
       "      <td>303.320221</td>\n",
       "      <td>4685390</td>\n",
       "    </tr>\n",
       "    <tr>\n",
       "      <th>2</th>\n",
       "      <td>2010-01-06</td>\n",
       "      <td>305.707489</td>\n",
       "      <td>307.727478</td>\n",
       "      <td>299.417969</td>\n",
       "      <td>300.106598</td>\n",
       "      <td>4802900</td>\n",
       "    </tr>\n",
       "    <tr>\n",
       "      <th>3</th>\n",
       "      <td>2010-01-07</td>\n",
       "      <td>301.483856</td>\n",
       "      <td>306.671570</td>\n",
       "      <td>301.162506</td>\n",
       "      <td>302.447968</td>\n",
       "      <td>4213709</td>\n",
       "    </tr>\n",
       "    <tr>\n",
       "      <th>4</th>\n",
       "      <td>2010-01-08</td>\n",
       "      <td>302.769318</td>\n",
       "      <td>304.330231</td>\n",
       "      <td>298.086609</td>\n",
       "      <td>298.453888</td>\n",
       "      <td>2892365</td>\n",
       "    </tr>\n",
       "    <tr>\n",
       "      <th>...</th>\n",
       "      <td>...</td>\n",
       "      <td>...</td>\n",
       "      <td>...</td>\n",
       "      <td>...</td>\n",
       "      <td>...</td>\n",
       "      <td>...</td>\n",
       "    </tr>\n",
       "    <tr>\n",
       "      <th>3222</th>\n",
       "      <td>2023-01-19</td>\n",
       "      <td>776.000000</td>\n",
       "      <td>776.500000</td>\n",
       "      <td>765.650024</td>\n",
       "      <td>772.000000</td>\n",
       "      <td>4169463</td>\n",
       "    </tr>\n",
       "    <tr>\n",
       "      <th>3223</th>\n",
       "      <td>2023-01-20</td>\n",
       "      <td>775.849976</td>\n",
       "      <td>775.849976</td>\n",
       "      <td>758.299988</td>\n",
       "      <td>764.450012</td>\n",
       "      <td>6289718</td>\n",
       "    </tr>\n",
       "    <tr>\n",
       "      <th>3224</th>\n",
       "      <td>2023-01-23</td>\n",
       "      <td>767.900024</td>\n",
       "      <td>776.000000</td>\n",
       "      <td>763.849976</td>\n",
       "      <td>772.700012</td>\n",
       "      <td>2685320</td>\n",
       "    </tr>\n",
       "    <tr>\n",
       "      <th>3225</th>\n",
       "      <td>2023-01-24</td>\n",
       "      <td>773.000000</td>\n",
       "      <td>777.549988</td>\n",
       "      <td>761.000000</td>\n",
       "      <td>775.650024</td>\n",
       "      <td>5012125</td>\n",
       "    </tr>\n",
       "    <tr>\n",
       "      <th>3226</th>\n",
       "      <td>2023-01-25</td>\n",
       "      <td>774.950012</td>\n",
       "      <td>780.500000</td>\n",
       "      <td>768.000000</td>\n",
       "      <td>776.500000</td>\n",
       "      <td>6560514</td>\n",
       "    </tr>\n",
       "  </tbody>\n",
       "</table>\n",
       "<p>3227 rows × 6 columns</p>\n",
       "</div>"
      ],
      "text/plain": [
       "           Date        Open        High         Low       Close   Volume\n",
       "0    2010-01-04  302.861145  304.927032  297.352051  298.591614  3215431\n",
       "1    2010-01-05  301.392059  304.835205  298.867065  303.320221  4685390\n",
       "2    2010-01-06  305.707489  307.727478  299.417969  300.106598  4802900\n",
       "3    2010-01-07  301.483856  306.671570  301.162506  302.447968  4213709\n",
       "4    2010-01-08  302.769318  304.330231  298.086609  298.453888  2892365\n",
       "...         ...         ...         ...         ...         ...      ...\n",
       "3222 2023-01-19  776.000000  776.500000  765.650024  772.000000  4169463\n",
       "3223 2023-01-20  775.849976  775.849976  758.299988  764.450012  6289718\n",
       "3224 2023-01-23  767.900024  776.000000  763.849976  772.700012  2685320\n",
       "3225 2023-01-24  773.000000  777.549988  761.000000  775.650024  5012125\n",
       "3226 2023-01-25  774.950012  780.500000  768.000000  776.500000  6560514\n",
       "\n",
       "[3227 rows x 6 columns]"
      ]
     },
     "execution_count": 132,
     "metadata": {},
     "output_type": "execute_result"
    }
   ],
   "source": [
    "df"
   ]
  },
  {
   "cell_type": "code",
   "execution_count": 133,
   "metadata": {},
   "outputs": [
    {
     "data": {
      "text/plain": [
       "[<matplotlib.lines.Line2D at 0x1d537dd3100>]"
      ]
     },
     "execution_count": 133,
     "metadata": {},
     "output_type": "execute_result"
    },
    {
     "data": {
      "image/png": "[encoded data removed]",
      "text/plain": [
       "<Figure size 432x288 with 1 Axes>"
      ]
     },
     "metadata": {
      "needs_background": "light"
     },
     "output_type": "display_data"
    }
   ],
   "source": [
    "plt.plot(df.Close)"
   ]
  },
  {
   "cell_type": "code",
   "execution_count": 134,
   "metadata": {},
   "outputs": [
    {
     "data": {
      "text/html": [
       "<div>\n",
       "<style scoped>\n",
       "    .dataframe tbody tr th:only-of-type {\n",
       "        vertical-align: middle;\n",
       "    }\n",
       "\n",
       "    .dataframe tbody tr th {\n",
       "        vertical-align: top;\n",
       "    }\n",
       "\n",
       "    .dataframe thead th {\n",
       "        text-align: right;\n",
       "    }\n",
       "</style>\n",
       "<table border=\"1\" class=\"dataframe\">\n",
       "  <thead>\n",
       "    <tr style=\"text-align: right;\">\n",
       "      <th></th>\n",
       "      <th>Date</th>\n",
       "      <th>Open</th>\n",
       "      <th>High</th>\n",
       "      <th>Low</th>\n",
       "      <th>Close</th>\n",
       "      <th>Volume</th>\n",
       "    </tr>\n",
       "  </thead>\n",
       "  <tbody>\n",
       "    <tr>\n",
       "      <th>0</th>\n",
       "      <td>2010-01-04</td>\n",
       "      <td>302.861145</td>\n",
       "      <td>304.927032</td>\n",
       "      <td>297.352051</td>\n",
       "      <td>298.591614</td>\n",
       "      <td>3215431</td>\n",
       "    </tr>\n",
       "    <tr>\n",
       "      <th>1</th>\n",
       "      <td>2010-01-05</td>\n",
       "      <td>301.392059</td>\n",
       "      <td>304.835205</td>\n",
       "      <td>298.867065</td>\n",
       "      <td>303.320221</td>\n",
       "      <td>4685390</td>\n",
       "    </tr>\n",
       "    <tr>\n",
       "      <th>2</th>\n",
       "      <td>2010-01-06</td>\n",
       "      <td>305.707489</td>\n",
       "      <td>307.727478</td>\n",
       "      <td>299.417969</td>\n",
       "      <td>300.106598</td>\n",
       "      <td>4802900</td>\n",
       "    </tr>\n",
       "    <tr>\n",
       "      <th>3</th>\n",
       "      <td>2010-01-07</td>\n",
       "      <td>301.483856</td>\n",
       "      <td>306.671570</td>\n",
       "      <td>301.162506</td>\n",
       "      <td>302.447968</td>\n",
       "      <td>4213709</td>\n",
       "    </tr>\n",
       "    <tr>\n",
       "      <th>4</th>\n",
       "      <td>2010-01-08</td>\n",
       "      <td>302.769318</td>\n",
       "      <td>304.330231</td>\n",
       "      <td>298.086609</td>\n",
       "      <td>298.453888</td>\n",
       "      <td>2892365</td>\n",
       "    </tr>\n",
       "    <tr>\n",
       "      <th>...</th>\n",
       "      <td>...</td>\n",
       "      <td>...</td>\n",
       "      <td>...</td>\n",
       "      <td>...</td>\n",
       "      <td>...</td>\n",
       "      <td>...</td>\n",
       "    </tr>\n",
       "    <tr>\n",
       "      <th>3222</th>\n",
       "      <td>2023-01-19</td>\n",
       "      <td>776.000000</td>\n",
       "      <td>776.500000</td>\n",
       "      <td>765.650024</td>\n",
       "      <td>772.000000</td>\n",
       "      <td>4169463</td>\n",
       "    </tr>\n",
       "    <tr>\n",
       "      <th>3223</th>\n",
       "      <td>2023-01-20</td>\n",
       "      <td>775.849976</td>\n",
       "      <td>775.849976</td>\n",
       "      <td>758.299988</td>\n",
       "      <td>764.450012</td>\n",
       "      <td>6289718</td>\n",
       "    </tr>\n",
       "    <tr>\n",
       "      <th>3224</th>\n",
       "      <td>2023-01-23</td>\n",
       "      <td>767.900024</td>\n",
       "      <td>776.000000</td>\n",
       "      <td>763.849976</td>\n",
       "      <td>772.700012</td>\n",
       "      <td>2685320</td>\n",
       "    </tr>\n",
       "    <tr>\n",
       "      <th>3225</th>\n",
       "      <td>2023-01-24</td>\n",
       "      <td>773.000000</td>\n",
       "      <td>777.549988</td>\n",
       "      <td>761.000000</td>\n",
       "      <td>775.650024</td>\n",
       "      <td>5012125</td>\n",
       "    </tr>\n",
       "    <tr>\n",
       "      <th>3226</th>\n",
       "      <td>2023-01-25</td>\n",
       "      <td>774.950012</td>\n",
       "      <td>780.500000</td>\n",
       "      <td>768.000000</td>\n",
       "      <td>776.500000</td>\n",
       "      <td>6560514</td>\n",
       "    </tr>\n",
       "  </tbody>\n",
       "</table>\n",
       "<p>3227 rows × 6 columns</p>\n",
       "</div>"
      ],
      "text/plain": [
       "           Date        Open        High         Low       Close   Volume\n",
       "0    2010-01-04  302.861145  304.927032  297.352051  298.591614  3215431\n",
       "1    2010-01-05  301.392059  304.835205  298.867065  303.320221  4685390\n",
       "2    2010-01-06  305.707489  307.727478  299.417969  300.106598  4802900\n",
       "3    2010-01-07  301.483856  306.671570  301.162506  302.447968  4213709\n",
       "4    2010-01-08  302.769318  304.330231  298.086609  298.453888  2892365\n",
       "...         ...         ...         ...         ...         ...      ...\n",
       "3222 2023-01-19  776.000000  776.500000  765.650024  772.000000  4169463\n",
       "3223 2023-01-20  775.849976  775.849976  758.299988  764.450012  6289718\n",
       "3224 2023-01-23  767.900024  776.000000  763.849976  772.700012  2685320\n",
       "3225 2023-01-24  773.000000  777.549988  761.000000  775.650024  5012125\n",
       "3226 2023-01-25  774.950012  780.500000  768.000000  776.500000  6560514\n",
       "\n",
       "[3227 rows x 6 columns]"
      ]
     },
     "execution_count": 134,
     "metadata": {},
     "output_type": "execute_result"
    }
   ],
   "source": [
    "df"
   ]
  },
  {
   "cell_type": "code",
   "execution_count": 135,
   "metadata": {},
   "outputs": [
    {
     "data": {
      "text/plain": [
       "0              NaN\n",
       "1              NaN\n",
       "2              NaN\n",
       "3              NaN\n",
       "4              NaN\n",
       "           ...    \n",
       "3222    801.515998\n",
       "3223    801.954498\n",
       "3224    802.415499\n",
       "3225    802.821499\n",
       "3226    803.236499\n",
       "Name: Close, Length: 3227, dtype: float64"
      ]
     },
     "execution_count": 135,
     "metadata": {},
     "output_type": "execute_result"
    }
   ],
   "source": [
    "ma100 = df.Close.rolling(100).mean()\n",
    "ma100"
   ]
  },
  {
   "cell_type": "code",
   "execution_count": 136,
   "metadata": {},
   "outputs": [
    {
     "data": {
      "text/plain": [
       "[<matplotlib.lines.Line2D at 0x1d537df09a0>]"
      ]
     },
     "execution_count": 136,
     "metadata": {},
     "output_type": "execute_result"
    },
    {
     "data": {
      "image/png": "[encoded data removed]",
      "text/plain": [
       "<Figure size 864x432 with 1 Axes>"
      ]
     },
     "metadata": {
      "needs_background": "light"
     },
     "output_type": "display_data"
    }
   ],
   "source": [
    "plt.figure(figsize=(12,6))\n",
    "plt.plot(df.Close)\n",
    "plt.plot(ma100,'r')"
   ]
  },
  {
   "cell_type": "code",
   "execution_count": 137,
   "metadata": {},
   "outputs": [
    {
     "data": {
      "text/plain": [
       "0             NaN\n",
       "1             NaN\n",
       "2             NaN\n",
       "3             NaN\n",
       "4             NaN\n",
       "          ...    \n",
       "3222    750.79575\n",
       "3223    750.77900\n",
       "3224    750.80950\n",
       "3225    750.80950\n",
       "3226    750.88000\n",
       "Name: Close, Length: 3227, dtype: float64"
      ]
     },
     "execution_count": 137,
     "metadata": {},
     "output_type": "execute_result"
    }
   ],
   "source": [
    "ma200 = df.Close.rolling(200).mean()\n",
    "ma200"
   ]
  },
  {
   "cell_type": "code",
   "execution_count": 138,
   "metadata": {},
   "outputs": [
    {
     "data": {
      "text/plain": [
       "[<matplotlib.lines.Line2D at 0x1d537e5f460>]"
      ]
     },
     "execution_count": 138,
     "metadata": {},
     "output_type": "execute_result"
    },
    {
     "data": {
      "image/png": "[encoded data removed]",
      "text/plain": [
       "<Figure size 864x432 with 1 Axes>"
      ]
     },
     "metadata": {
      "needs_background": "light"
     },
     "output_type": "display_data"
    }
   ],
   "source": [
    "plt.figure(figsize=(12,6))\n",
    "plt.plot(df.Close)\n",
    "plt.plot(ma200,'g')\n",
    "plt.plot(ma100,'r')"
   ]
  },
  {
   "cell_type": "code",
   "execution_count": 139,
   "metadata": {},
   "outputs": [
    {
     "data": {
      "text/plain": [
       "[<matplotlib.lines.Line2D at 0x1d537f11670>]"
      ]
     },
     "execution_count": 139,
     "metadata": {},
     "output_type": "execute_result"
    },
    {
     "data": {
      "image/png": "[encoded data removed]",
      "text/plain": [
       "<Figure size 1440x720 with 1 Axes>"
      ]
     },
     "metadata": {
      "needs_background": "light"
     },
     "output_type": "display_data"
    }
   ],
   "source": [
    "EMA100 = df['Close'].ewm(span=100, adjust=False).mean()\n",
    "EMA200= df['Close'].ewm(span=200, adjust=False).mean()\n",
    "\n",
    "plt.figure(figsize=(20,10))\n",
    "plt.plot(df.Close)\n",
    "plt.plot(ma200,'g')\n",
    "plt.plot(ma100,'r')\n",
    "plt.plot(EMA100,)\n",
    "plt.plot(EMA200)"
   ]
  },
  {
   "cell_type": "code",
   "execution_count": 140,
   "metadata": {},
   "outputs": [
    {
     "data": {
      "text/plain": [
       "(3227, 6)"
      ]
     },
     "execution_count": 140,
     "metadata": {},
     "output_type": "execute_result"
    }
   ],
   "source": [
    "df.shape"
   ]
  },
  {
   "cell_type": "code",
   "execution_count": 141,
   "metadata": {},
   "outputs": [
    {
     "name": "stdout",
     "output_type": "stream",
     "text": [
      "(2258, 1) (969, 1)\n"
     ]
    }
   ],
   "source": [
    "data_trainig = pd.DataFrame(df['Close'][0:int(len(df)*0.70)])\n",
    "data_testing = pd.DataFrame(df['Close'][int(len(df)*0.70):int(len(df))])\n",
    "\n",
    "print(data_trainig.shape,data_testing.shape)"
   ]
  },
  {
   "cell_type": "code",
   "execution_count": 142,
   "metadata": {},
   "outputs": [
    {
     "data": {
      "text/html": [
       "<div>\n",
       "<style scoped>\n",
       "    .dataframe tbody tr th:only-of-type {\n",
       "        vertical-align: middle;\n",
       "    }\n",
       "\n",
       "    .dataframe tbody tr th {\n",
       "        vertical-align: top;\n",
       "    }\n",
       "\n",
       "    .dataframe thead th {\n",
       "        text-align: right;\n",
       "    }\n",
       "</style>\n",
       "<table border=\"1\" class=\"dataframe\">\n",
       "  <thead>\n",
       "    <tr style=\"text-align: right;\">\n",
       "      <th></th>\n",
       "      <th>Close</th>\n",
       "    </tr>\n",
       "  </thead>\n",
       "  <tbody>\n",
       "    <tr>\n",
       "      <th>0</th>\n",
       "      <td>298.591614</td>\n",
       "    </tr>\n",
       "    <tr>\n",
       "      <th>1</th>\n",
       "      <td>303.320221</td>\n",
       "    </tr>\n",
       "    <tr>\n",
       "      <th>2</th>\n",
       "      <td>300.106598</td>\n",
       "    </tr>\n",
       "    <tr>\n",
       "      <th>3</th>\n",
       "      <td>302.447968</td>\n",
       "    </tr>\n",
       "    <tr>\n",
       "      <th>4</th>\n",
       "      <td>298.453888</td>\n",
       "    </tr>\n",
       "  </tbody>\n",
       "</table>\n",
       "</div>"
      ],
      "text/plain": [
       "        Close\n",
       "0  298.591614\n",
       "1  303.320221\n",
       "2  300.106598\n",
       "3  302.447968\n",
       "4  298.453888"
      ]
     },
     "execution_count": 142,
     "metadata": {},
     "output_type": "execute_result"
    }
   ],
   "source": [
    "data_trainig.head()"
   ]
  },
  {
   "cell_type": "code",
   "execution_count": 143,
   "metadata": {},
   "outputs": [
    {
     "data": {
      "text/html": [
       "<div>\n",
       "<style scoped>\n",
       "    .dataframe tbody tr th:only-of-type {\n",
       "        vertical-align: middle;\n",
       "    }\n",
       "\n",
       "    .dataframe tbody tr th {\n",
       "        vertical-align: top;\n",
       "    }\n",
       "\n",
       "    .dataframe thead th {\n",
       "        text-align: right;\n",
       "    }\n",
       "</style>\n",
       "<table border=\"1\" class=\"dataframe\">\n",
       "  <thead>\n",
       "    <tr style=\"text-align: right;\">\n",
       "      <th></th>\n",
       "      <th>Close</th>\n",
       "    </tr>\n",
       "  </thead>\n",
       "  <tbody>\n",
       "    <tr>\n",
       "      <th>2258</th>\n",
       "      <td>289.639374</td>\n",
       "    </tr>\n",
       "    <tr>\n",
       "      <th>2259</th>\n",
       "      <td>293.954803</td>\n",
       "    </tr>\n",
       "    <tr>\n",
       "      <th>2260</th>\n",
       "      <td>292.026642</td>\n",
       "    </tr>\n",
       "    <tr>\n",
       "      <th>2261</th>\n",
       "      <td>282.477570</td>\n",
       "    </tr>\n",
       "    <tr>\n",
       "      <th>2262</th>\n",
       "      <td>282.661224</td>\n",
       "    </tr>\n",
       "  </tbody>\n",
       "</table>\n",
       "</div>"
      ],
      "text/plain": [
       "           Close\n",
       "2258  289.639374\n",
       "2259  293.954803\n",
       "2260  292.026642\n",
       "2261  282.477570\n",
       "2262  282.661224"
      ]
     },
     "execution_count": 143,
     "metadata": {},
     "output_type": "execute_result"
    }
   ],
   "source": [
    "data_testing.head()"
   ]
  },
  {
   "cell_type": "code",
   "execution_count": 144,
   "metadata": {},
   "outputs": [],
   "source": [
    "from sklearn.preprocessing import MinMaxScaler\n",
    "\n",
    "scaler = MinMaxScaler(feature_range=(0,1))"
   ]
  },
  {
   "cell_type": "code",
   "execution_count": 145,
   "metadata": {},
   "outputs": [
    {
     "data": {
      "text/plain": [
       "array([[0.27550683],\n",
       "       [0.29262211],\n",
       "       [0.28099034],\n",
       "       ...,\n",
       "       [0.22465938],\n",
       "       [0.23778665],\n",
       "       [0.24908605]])"
      ]
     },
     "execution_count": 145,
     "metadata": {},
     "output_type": "execute_result"
    }
   ],
   "source": [
    "data_trainig_array = scaler.fit_transform(data_trainig)\n",
    "data_trainig_array"
   ]
  },
  {
   "cell_type": "code",
   "execution_count": 146,
   "metadata": {},
   "outputs": [],
   "source": [
    "x_train = []\n",
    "y_train = []\n",
    "x_val = []\n",
    "y_val =[] \n",
    "\n",
    "for i in range(100,data_trainig_array.shape[0]) :\n",
    "    \n",
    "    x_train.append(data_trainig_array[i-100 : i])\n",
    "    y_train.append(data_trainig_array[i,0])\n",
    "    \n",
    "\n",
    "x_train , y_train = np.array(x_train) , np.array(y_train)\n"
   ]
  },
  {
   "cell_type": "code",
   "execution_count": 147,
   "metadata": {},
   "outputs": [
    {
     "data": {
      "text/plain": [
       "(2158, 100, 1)"
      ]
     },
     "execution_count": 147,
     "metadata": {},
     "output_type": "execute_result"
    }
   ],
   "source": [
    "x_train.shape\n",
    "# y_train.shape"
   ]
  },
  {
   "cell_type": "markdown",
   "metadata": {},
   "source": [
    "### ML MODEL"
   ]
  },
  {
   "cell_type": "code",
   "execution_count": 148,
   "metadata": {},
   "outputs": [],
   "source": [
    "from keras.layers import Dense , Dropout , LSTM\n",
    "from keras.models import Sequential , load_model"
   ]
  },
  {
   "cell_type": "code",
   "execution_count": 149,
   "metadata": {},
   "outputs": [],
   "source": [
    "model = Sequential()\n",
    "\n",
    "\n",
    "model.add(LSTM(units=50,activation='relu',\n",
    "            return_sequences=True,\n",
    "            input_shape = (x_train.shape[1],1)))\n",
    "model.add(Dropout(0.2))\n",
    "\n",
    "model.add(LSTM(units=60,activation='relu',\n",
    "            return_sequences=True))\n",
    "model.add(Dropout(0.3))\n",
    "\n",
    "model.add(LSTM(units=60,activation='relu',\n",
    "            return_sequences=True))\n",
    "model.add(Dropout(0.3))\n",
    "\n",
    "model.add(LSTM(units=80,activation='relu',\n",
    "            return_sequences=True))\n",
    "model.add(Dropout(0.3))\n",
    "\n",
    "model.add(LSTM(units=80,activation='relu',\n",
    "            return_sequences=True))\n",
    "model.add(Dropout(0.3))\n",
    "\n",
    "model.add(LSTM(units=120,activation='relu'))\n",
    "model.add(Dropout(0.5))\n",
    "\n",
    "\n",
    "model.add(Dense(units=1))"
   ]
  },
  {
   "cell_type": "code",
   "execution_count": 150,
   "metadata": {},
   "outputs": [
    {
     "name": "stdout",
     "output_type": "stream",
     "text": [
      "Model: \"sequential\"\n",
      "_________________________________________________________________\n",
      " Layer (type)                Output Shape              Param #   \n",
      "=================================================================\n",
      " lstm (LSTM)                 (None, 100, 50)           10400     \n",
      "                                                                 \n",
      " dropout (Dropout)           (None, 100, 50)           0         \n",
      "                                                                 \n",
      " lstm_1 (LSTM)               (None, 100, 60)           26640     \n",
      "                                                                 \n",
      " dropout_1 (Dropout)         (None, 100, 60)           0         \n",
      "                                                                 \n",
      " lstm_2 (LSTM)               (None, 100, 60)           29040     \n",
      "                                                                 \n",
      " dropout_2 (Dropout)         (None, 100, 60)           0         \n",
      "                                                                 \n",
      " lstm_3 (LSTM)               (None, 100, 80)           45120     \n",
      "                                                                 \n",
      " dropout_3 (Dropout)         (None, 100, 80)           0         \n",
      "                                                                 \n",
      " lstm_4 (LSTM)               (None, 100, 80)           51520     \n",
      "                                                                 \n",
      " dropout_4 (Dropout)         (None, 100, 80)           0         \n",
      "                                                                 \n",
      " lstm_5 (LSTM)               (None, 120)               96480     \n",
      "                                                                 \n",
      " dropout_5 (Dropout)         (None, 120)               0         \n",
      "                                                                 \n",
      " dense (Dense)               (None, 1)                 121       \n",
      "                                                                 \n",
      "=================================================================\n",
      "Total params: 259,321\n",
      "Trainable params: 259,321\n",
      "Non-trainable params: 0\n",
      "_________________________________________________________________\n"
     ]
    }
   ],
   "source": [
    "model.summary()"
   ]
  },
  {
   "cell_type": "code",
   "execution_count": 151,
   "metadata": {},
   "outputs": [
    {
     "name": "stdout",
     "output_type": "stream",
     "text": [
      "Epoch 1/50\n",
      "68/68 [==============================] - 21s 249ms/step - loss: 0.0283\n",
      "Epoch 2/50\n",
      "68/68 [==============================] - 17s 248ms/step - loss: 0.0120\n",
      "Epoch 3/50\n",
      "68/68 [==============================] - 17s 253ms/step - loss: 0.0100\n",
      "Epoch 4/50\n",
      "68/68 [==============================] - 20s 300ms/step - loss: 0.0096\n",
      "Epoch 5/50\n",
      "68/68 [==============================] - 20s 288ms/step - loss: 0.0089\n",
      "Epoch 6/50\n",
      "68/68 [==============================] - 22s 320ms/step - loss: 0.0088\n",
      "Epoch 7/50\n",
      "68/68 [==============================] - 34s 496ms/step - loss: 0.0069\n",
      "Epoch 8/50\n",
      "68/68 [==============================] - 43s 627ms/step - loss: 0.0067\n",
      "Epoch 9/50\n",
      "68/68 [==============================] - 20s 282ms/step - loss: 0.0063\n",
      "Epoch 10/50\n",
      "68/68 [==============================] - 20s 294ms/step - loss: 0.0063\n",
      "Epoch 11/50\n",
      "68/68 [==============================] - 20s 299ms/step - loss: 0.0055\n",
      "Epoch 12/50\n",
      "68/68 [==============================] - 22s 319ms/step - loss: 0.0052\n",
      "Epoch 13/50\n",
      "68/68 [==============================] - 26s 381ms/step - loss: 0.0054\n",
      "Epoch 14/50\n",
      "68/68 [==============================] - 25s 369ms/step - loss: 0.0047\n",
      "Epoch 15/50\n",
      "68/68 [==============================] - 23s 340ms/step - loss: 0.0044\n",
      "Epoch 16/50\n",
      "68/68 [==============================] - 24s 349ms/step - loss: 0.0045\n",
      "Epoch 17/50\n",
      "68/68 [==============================] - 23s 333ms/step - loss: 0.0042\n",
      "Epoch 18/50\n",
      "68/68 [==============================] - 23s 341ms/step - loss: 0.0043\n",
      "Epoch 19/50\n",
      "68/68 [==============================] - 23s 343ms/step - loss: 0.0042\n",
      "Epoch 20/50\n",
      "68/68 [==============================] - 22s 330ms/step - loss: 0.0041\n",
      "Epoch 21/50\n",
      "68/68 [==============================] - 23s 337ms/step - loss: 0.0040\n",
      "Epoch 22/50\n",
      "68/68 [==============================] - 23s 338ms/step - loss: 0.0037\n",
      "Epoch 23/50\n",
      "68/68 [==============================] - 22s 318ms/step - loss: 0.0033\n",
      "Epoch 24/50\n",
      "68/68 [==============================] - 22s 322ms/step - loss: 0.0035\n",
      "Epoch 25/50\n",
      "68/68 [==============================] - 23s 333ms/step - loss: 0.0033\n",
      "Epoch 26/50\n",
      "68/68 [==============================] - 23s 341ms/step - loss: 0.0034\n",
      "Epoch 27/50\n",
      "68/68 [==============================] - 34s 498ms/step - loss: 0.0032\n",
      "Epoch 28/50\n",
      "68/68 [==============================] - 29s 432ms/step - loss: 0.0032\n",
      "Epoch 29/50\n",
      "68/68 [==============================] - 23s 336ms/step - loss: 0.0028\n",
      "Epoch 30/50\n",
      "68/68 [==============================] - 24s 350ms/step - loss: 0.0029\n",
      "Epoch 31/50\n",
      "68/68 [==============================] - 24s 352ms/step - loss: 0.0031\n",
      "Epoch 32/50\n",
      "68/68 [==============================] - 24s 353ms/step - loss: 0.0029\n",
      "Epoch 33/50\n",
      "68/68 [==============================] - 24s 347ms/step - loss: 0.0030\n",
      "Epoch 34/50\n",
      "68/68 [==============================] - 24s 350ms/step - loss: 0.0031\n",
      "Epoch 35/50\n",
      "68/68 [==============================] - 23s 344ms/step - loss: 0.0028\n",
      "Epoch 36/50\n",
      "35/68 [==============>...............] - ETA: 10:06:00 - loss: 0.0025"
     ]
    }
   ],
   "source": [
    "model.compile(optimizer='adam',\n",
    "            loss='mean_squared_error')\n",
    "model.fit(x_train,y_train,epochs = 50)"
   ]
  },
  {
   "cell_type": "code",
   "execution_count": null,
   "metadata": {},
   "outputs": [
    {
     "data": {
      "text/plain": [
       "<AxesSubplot:>"
      ]
     },
     "execution_count": 126,
     "metadata": {},
     "output_type": "execute_result"
    },
    {
     "data": {
      "image/png": "[encoded data removed]",
      "text/plain": [
       "<Figure size 432x288 with 1 Axes>"
      ]
     },
     "metadata": {
      "needs_background": "light"
     },
     "output_type": "display_data"
    }
   ],
   "source": [
    "losses = pd.DataFrame(model.history.history)\n",
    "losses.plot()"
   ]
  },
  {
   "cell_type": "code",
   "execution_count": null,
   "metadata": {},
   "outputs": [],
   "source": [
    "model.save('keras_stock_new.h5')"
   ]
  },
  {
   "cell_type": "code",
   "execution_count": null,
   "metadata": {},
   "outputs": [
    {
     "data": {
      "text/html": [
       "<div>\n",
       "<style scoped>\n",
       "    .dataframe tbody tr th:only-of-type {\n",
       "        vertical-align: middle;\n",
       "    }\n",
       "\n",
       "    .dataframe tbody tr th {\n",
       "        vertical-align: top;\n",
       "    }\n",
       "\n",
       "    .dataframe thead th {\n",
       "        text-align: right;\n",
       "    }\n",
       "</style>\n",
       "<table border=\"1\" class=\"dataframe\">\n",
       "  <thead>\n",
       "    <tr style=\"text-align: right;\">\n",
       "      <th></th>\n",
       "      <th>Close</th>\n",
       "    </tr>\n",
       "  </thead>\n",
       "  <tbody>\n",
       "    <tr>\n",
       "      <th>2258</th>\n",
       "      <td>289.639374</td>\n",
       "    </tr>\n",
       "    <tr>\n",
       "      <th>2259</th>\n",
       "      <td>293.954803</td>\n",
       "    </tr>\n",
       "    <tr>\n",
       "      <th>2260</th>\n",
       "      <td>292.026642</td>\n",
       "    </tr>\n",
       "    <tr>\n",
       "      <th>2261</th>\n",
       "      <td>282.477570</td>\n",
       "    </tr>\n",
       "    <tr>\n",
       "      <th>2262</th>\n",
       "      <td>282.661224</td>\n",
       "    </tr>\n",
       "  </tbody>\n",
       "</table>\n",
       "</div>"
      ],
      "text/plain": [
       "           Close\n",
       "2258  289.639374\n",
       "2259  293.954803\n",
       "2260  292.026642\n",
       "2261  282.477570\n",
       "2262  282.661224"
      ]
     },
     "execution_count": 93,
     "metadata": {},
     "output_type": "execute_result"
    }
   ],
   "source": [
    "data_testing.head()"
   ]
  },
  {
   "cell_type": "code",
   "execution_count": null,
   "metadata": {},
   "outputs": [
    {
     "data": {
      "text/html": [
       "<div>\n",
       "<style scoped>\n",
       "    .dataframe tbody tr th:only-of-type {\n",
       "        vertical-align: middle;\n",
       "    }\n",
       "\n",
       "    .dataframe tbody tr th {\n",
       "        vertical-align: top;\n",
       "    }\n",
       "\n",
       "    .dataframe thead th {\n",
       "        text-align: right;\n",
       "    }\n",
       "</style>\n",
       "<table border=\"1\" class=\"dataframe\">\n",
       "  <thead>\n",
       "    <tr style=\"text-align: right;\">\n",
       "      <th></th>\n",
       "      <th>Close</th>\n",
       "    </tr>\n",
       "  </thead>\n",
       "  <tbody>\n",
       "    <tr>\n",
       "      <th>2158</th>\n",
       "      <td>300.014771</td>\n",
       "    </tr>\n",
       "    <tr>\n",
       "      <th>2159</th>\n",
       "      <td>292.393890</td>\n",
       "    </tr>\n",
       "    <tr>\n",
       "      <th>2160</th>\n",
       "      <td>284.773010</td>\n",
       "    </tr>\n",
       "    <tr>\n",
       "      <th>2161</th>\n",
       "      <td>274.168060</td>\n",
       "    </tr>\n",
       "    <tr>\n",
       "      <th>2162</th>\n",
       "      <td>271.046265</td>\n",
       "    </tr>\n",
       "    <tr>\n",
       "      <th>...</th>\n",
       "      <td>...</td>\n",
       "    </tr>\n",
       "    <tr>\n",
       "      <th>2253</th>\n",
       "      <td>278.850769</td>\n",
       "    </tr>\n",
       "    <tr>\n",
       "      <th>2254</th>\n",
       "      <td>283.717102</td>\n",
       "    </tr>\n",
       "    <tr>\n",
       "      <th>2255</th>\n",
       "      <td>284.543488</td>\n",
       "    </tr>\n",
       "    <tr>\n",
       "      <th>2256</th>\n",
       "      <td>288.170288</td>\n",
       "    </tr>\n",
       "    <tr>\n",
       "      <th>2257</th>\n",
       "      <td>291.292084</td>\n",
       "    </tr>\n",
       "  </tbody>\n",
       "</table>\n",
       "<p>100 rows × 1 columns</p>\n",
       "</div>"
      ],
      "text/plain": [
       "           Close\n",
       "2158  300.014771\n",
       "2159  292.393890\n",
       "2160  284.773010\n",
       "2161  274.168060\n",
       "2162  271.046265\n",
       "...          ...\n",
       "2253  278.850769\n",
       "2254  283.717102\n",
       "2255  284.543488\n",
       "2256  288.170288\n",
       "2257  291.292084\n",
       "\n",
       "[100 rows x 1 columns]"
      ]
     },
     "execution_count": 94,
     "metadata": {},
     "output_type": "execute_result"
    }
   ],
   "source": [
    "past100 = data_trainig.tail(100)\n",
    "past100"
   ]
  },
  {
   "cell_type": "code",
   "execution_count": null,
   "metadata": {},
   "outputs": [
    {
     "data": {
      "text/html": [
       "<div>\n",
       "<style scoped>\n",
       "    .dataframe tbody tr th:only-of-type {\n",
       "        vertical-align: middle;\n",
       "    }\n",
       "\n",
       "    .dataframe tbody tr th {\n",
       "        vertical-align: top;\n",
       "    }\n",
       "\n",
       "    .dataframe thead th {\n",
       "        text-align: right;\n",
       "    }\n",
       "</style>\n",
       "<table border=\"1\" class=\"dataframe\">\n",
       "  <thead>\n",
       "    <tr style=\"text-align: right;\">\n",
       "      <th></th>\n",
       "      <th>Close</th>\n",
       "    </tr>\n",
       "  </thead>\n",
       "  <tbody>\n",
       "    <tr>\n",
       "      <th>2258</th>\n",
       "      <td>289.639374</td>\n",
       "    </tr>\n",
       "    <tr>\n",
       "      <th>2259</th>\n",
       "      <td>293.954803</td>\n",
       "    </tr>\n",
       "    <tr>\n",
       "      <th>2260</th>\n",
       "      <td>292.026642</td>\n",
       "    </tr>\n",
       "    <tr>\n",
       "      <th>2261</th>\n",
       "      <td>282.477570</td>\n",
       "    </tr>\n",
       "    <tr>\n",
       "      <th>2262</th>\n",
       "      <td>282.661224</td>\n",
       "    </tr>\n",
       "    <tr>\n",
       "      <th>...</th>\n",
       "      <td>...</td>\n",
       "    </tr>\n",
       "    <tr>\n",
       "      <th>3222</th>\n",
       "      <td>772.000000</td>\n",
       "    </tr>\n",
       "    <tr>\n",
       "      <th>3223</th>\n",
       "      <td>764.450012</td>\n",
       "    </tr>\n",
       "    <tr>\n",
       "      <th>3224</th>\n",
       "      <td>772.700012</td>\n",
       "    </tr>\n",
       "    <tr>\n",
       "      <th>3225</th>\n",
       "      <td>775.650024</td>\n",
       "    </tr>\n",
       "    <tr>\n",
       "      <th>3226</th>\n",
       "      <td>776.500000</td>\n",
       "    </tr>\n",
       "  </tbody>\n",
       "</table>\n",
       "<p>969 rows × 1 columns</p>\n",
       "</div>"
      ],
      "text/plain": [
       "           Close\n",
       "2258  289.639374\n",
       "2259  293.954803\n",
       "2260  292.026642\n",
       "2261  282.477570\n",
       "2262  282.661224\n",
       "...          ...\n",
       "3222  772.000000\n",
       "3223  764.450012\n",
       "3224  772.700012\n",
       "3225  775.650024\n",
       "3226  776.500000\n",
       "\n",
       "[969 rows x 1 columns]"
      ]
     },
     "execution_count": 95,
     "metadata": {},
     "output_type": "execute_result"
    }
   ],
   "source": [
    "data_testing"
   ]
  },
  {
   "cell_type": "code",
   "execution_count": null,
   "metadata": {},
   "outputs": [
    {
     "name": "stderr",
     "output_type": "stream",
     "text": [
      "C:\\Users\\RITWIK SRIVASTAVA\\AppData\\Local\\Temp\\ipykernel_16372\\1868875912.py:1: FutureWarning: The frame.append method is deprecated and will be removed from pandas in a future version. Use pandas.concat instead.\n",
      "  final_df = past100.append(data_testing,ignore_index=True)\n"
     ]
    }
   ],
   "source": [
    "final_df = past100.append(data_testing,ignore_index=True)"
   ]
  },
  {
   "cell_type": "code",
   "execution_count": null,
   "metadata": {},
   "outputs": [
    {
     "data": {
      "text/plain": [
       "(1069, 1)"
      ]
     },
     "execution_count": 97,
     "metadata": {},
     "output_type": "execute_result"
    }
   ],
   "source": [
    "final_df.shape"
   ]
  },
  {
   "cell_type": "code",
   "execution_count": null,
   "metadata": {},
   "outputs": [
    {
     "data": {
      "text/html": [
       "<div>\n",
       "<style scoped>\n",
       "    .dataframe tbody tr th:only-of-type {\n",
       "        vertical-align: middle;\n",
       "    }\n",
       "\n",
       "    .dataframe tbody tr th {\n",
       "        vertical-align: top;\n",
       "    }\n",
       "\n",
       "    .dataframe thead th {\n",
       "        text-align: right;\n",
       "    }\n",
       "</style>\n",
       "<table border=\"1\" class=\"dataframe\">\n",
       "  <thead>\n",
       "    <tr style=\"text-align: right;\">\n",
       "      <th></th>\n",
       "      <th>Close</th>\n",
       "    </tr>\n",
       "  </thead>\n",
       "  <tbody>\n",
       "    <tr>\n",
       "      <th>0</th>\n",
       "      <td>300.014771</td>\n",
       "    </tr>\n",
       "    <tr>\n",
       "      <th>1</th>\n",
       "      <td>292.393890</td>\n",
       "    </tr>\n",
       "    <tr>\n",
       "      <th>2</th>\n",
       "      <td>284.773010</td>\n",
       "    </tr>\n",
       "    <tr>\n",
       "      <th>3</th>\n",
       "      <td>274.168060</td>\n",
       "    </tr>\n",
       "    <tr>\n",
       "      <th>4</th>\n",
       "      <td>271.046265</td>\n",
       "    </tr>\n",
       "    <tr>\n",
       "      <th>...</th>\n",
       "      <td>...</td>\n",
       "    </tr>\n",
       "    <tr>\n",
       "      <th>1064</th>\n",
       "      <td>772.000000</td>\n",
       "    </tr>\n",
       "    <tr>\n",
       "      <th>1065</th>\n",
       "      <td>764.450012</td>\n",
       "    </tr>\n",
       "    <tr>\n",
       "      <th>1066</th>\n",
       "      <td>772.700012</td>\n",
       "    </tr>\n",
       "    <tr>\n",
       "      <th>1067</th>\n",
       "      <td>775.650024</td>\n",
       "    </tr>\n",
       "    <tr>\n",
       "      <th>1068</th>\n",
       "      <td>776.500000</td>\n",
       "    </tr>\n",
       "  </tbody>\n",
       "</table>\n",
       "<p>1069 rows × 1 columns</p>\n",
       "</div>"
      ],
      "text/plain": [
       "           Close\n",
       "0     300.014771\n",
       "1     292.393890\n",
       "2     284.773010\n",
       "3     274.168060\n",
       "4     271.046265\n",
       "...          ...\n",
       "1064  772.000000\n",
       "1065  764.450012\n",
       "1066  772.700012\n",
       "1067  775.650024\n",
       "1068  776.500000\n",
       "\n",
       "[1069 rows x 1 columns]"
      ]
     },
     "execution_count": 98,
     "metadata": {},
     "output_type": "execute_result"
    }
   ],
   "source": [
    "final_df"
   ]
  },
  {
   "cell_type": "code",
   "execution_count": null,
   "metadata": {},
   "outputs": [
    {
     "data": {
      "text/plain": [
       "(1069, 1)"
      ]
     },
     "execution_count": 99,
     "metadata": {},
     "output_type": "execute_result"
    }
   ],
   "source": [
    "input_data = scaler.fit_transform(final_df)\n",
    "input_data.shape"
   ]
  },
  {
   "cell_type": "code",
   "execution_count": null,
   "metadata": {},
   "outputs": [
    {
     "data": {
      "text/plain": [
       "(1069, 1)"
      ]
     },
     "execution_count": 100,
     "metadata": {},
     "output_type": "execute_result"
    }
   ],
   "source": [
    "input_data.shape"
   ]
  },
  {
   "cell_type": "code",
   "execution_count": null,
   "metadata": {},
   "outputs": [],
   "source": [
    "x_test = []\n",
    "y_test = []\n",
    "\n",
    "for i in range(100,input_data.shape[0]) :\n",
    "    \n",
    "    x_test.append(input_data[i-100 : i])\n",
    "    y_test.append(input_data[i,0])\n",
    "    \n",
    "x_test , y_test = np.array(x_test) , np.array(y_test)"
   ]
  },
  {
   "cell_type": "code",
   "execution_count": null,
   "metadata": {},
   "outputs": [
    {
     "data": {
      "text/plain": [
       "(969, 100, 1)"
      ]
     },
     "execution_count": 102,
     "metadata": {},
     "output_type": "execute_result"
    }
   ],
   "source": [
    "x_test.shape"
   ]
  },
  {
   "cell_type": "code",
   "execution_count": null,
   "metadata": {},
   "outputs": [
    {
     "data": {
      "text/plain": [
       "(969,)"
      ]
     },
     "execution_count": 103,
     "metadata": {},
     "output_type": "execute_result"
    }
   ],
   "source": [
    "y_test.shape"
   ]
  },
  {
   "cell_type": "code",
   "execution_count": null,
   "metadata": {},
   "outputs": [
    {
     "name": "stdout",
     "output_type": "stream",
     "text": [
      "31/31 [==============================] - 2s 49ms/step\n"
     ]
    }
   ],
   "source": [
    "model = load_model('keras_stock1.h5')\n",
    "y_predicted = model.predict(x_test)"
   ]
  },
  {
   "cell_type": "code",
   "execution_count": null,
   "metadata": {},
   "outputs": [
    {
     "name": "stdout",
     "output_type": "stream",
     "text": [
      "(3227, 1)\n"
     ]
    },
    {
     "data": {
      "text/html": [
       "<div>\n",
       "<style scoped>\n",
       "    .dataframe tbody tr th:only-of-type {\n",
       "        vertical-align: middle;\n",
       "    }\n",
       "\n",
       "    .dataframe tbody tr th {\n",
       "        vertical-align: top;\n",
       "    }\n",
       "\n",
       "    .dataframe thead th {\n",
       "        text-align: right;\n",
       "    }\n",
       "</style>\n",
       "<table border=\"1\" class=\"dataframe\">\n",
       "  <thead>\n",
       "    <tr style=\"text-align: right;\">\n",
       "      <th></th>\n",
       "      <th>Close</th>\n",
       "    </tr>\n",
       "  </thead>\n",
       "  <tbody>\n",
       "    <tr>\n",
       "      <th>0</th>\n",
       "      <td>298.591614</td>\n",
       "    </tr>\n",
       "    <tr>\n",
       "      <th>1</th>\n",
       "      <td>303.320221</td>\n",
       "    </tr>\n",
       "    <tr>\n",
       "      <th>2</th>\n",
       "      <td>300.106598</td>\n",
       "    </tr>\n",
       "    <tr>\n",
       "      <th>3</th>\n",
       "      <td>302.447968</td>\n",
       "    </tr>\n",
       "    <tr>\n",
       "      <th>4</th>\n",
       "      <td>298.453888</td>\n",
       "    </tr>\n",
       "    <tr>\n",
       "      <th>...</th>\n",
       "      <td>...</td>\n",
       "    </tr>\n",
       "    <tr>\n",
       "      <th>3222</th>\n",
       "      <td>772.000000</td>\n",
       "    </tr>\n",
       "    <tr>\n",
       "      <th>3223</th>\n",
       "      <td>764.450012</td>\n",
       "    </tr>\n",
       "    <tr>\n",
       "      <th>3224</th>\n",
       "      <td>772.700012</td>\n",
       "    </tr>\n",
       "    <tr>\n",
       "      <th>3225</th>\n",
       "      <td>775.650024</td>\n",
       "    </tr>\n",
       "    <tr>\n",
       "      <th>3226</th>\n",
       "      <td>776.500000</td>\n",
       "    </tr>\n",
       "  </tbody>\n",
       "</table>\n",
       "<p>3227 rows × 1 columns</p>\n",
       "</div>"
      ],
      "text/plain": [
       "           Close\n",
       "0     298.591614\n",
       "1     303.320221\n",
       "2     300.106598\n",
       "3     302.447968\n",
       "4     298.453888\n",
       "...          ...\n",
       "3222  772.000000\n",
       "3223  764.450012\n",
       "3224  772.700012\n",
       "3225  775.650024\n",
       "3226  776.500000\n",
       "\n",
       "[3227 rows x 1 columns]"
      ]
     },
     "execution_count": 105,
     "metadata": {},
     "output_type": "execute_result"
    }
   ],
   "source": [
    "real_data = df.Close\n",
    "real_data = pd.DataFrame(real_data)\n",
    "print(real_data.shape)\n",
    "real_data\n"
   ]
  },
  {
   "cell_type": "code",
   "execution_count": null,
   "metadata": {},
   "outputs": [
    {
     "data": {
      "text/plain": [
       "(3227, 1)"
      ]
     },
     "execution_count": 106,
     "metadata": {},
     "output_type": "execute_result"
    }
   ],
   "source": [
    "real_data1 = scaler.fit_transform(real_data)\n",
    "real_data1.shape"
   ]
  },
  {
   "cell_type": "code",
   "execution_count": null,
   "metadata": {},
   "outputs": [
    {
     "data": {
      "text/plain": [
       "(3127, 100, 1)"
      ]
     },
     "execution_count": 107,
     "metadata": {},
     "output_type": "execute_result"
    }
   ],
   "source": [
    "real_data_1 = []\n",
    "\n",
    "for i in range(100 , real_data1.shape[0]) :\n",
    "    real_data_1.append(real_data1[i-100 : i])\n",
    "    \n",
    "real_data_1 = np.array(real_data_1)\n",
    "real_data_1.shape"
   ]
  },
  {
   "cell_type": "code",
   "execution_count": null,
   "metadata": {},
   "outputs": [
    {
     "name": "stdout",
     "output_type": "stream",
     "text": [
      "98/98 [==============================] - 5s 51ms/step\n"
     ]
    }
   ],
   "source": [
    "preedicted_data = model.predict(real_data_1)"
   ]
  },
  {
   "cell_type": "code",
   "execution_count": null,
   "metadata": {},
   "outputs": [
    {
     "data": {
      "text/html": [
       "<div>\n",
       "<style scoped>\n",
       "    .dataframe tbody tr th:only-of-type {\n",
       "        vertical-align: middle;\n",
       "    }\n",
       "\n",
       "    .dataframe tbody tr th {\n",
       "        vertical-align: top;\n",
       "    }\n",
       "\n",
       "    .dataframe thead th {\n",
       "        text-align: right;\n",
       "    }\n",
       "</style>\n",
       "<table border=\"1\" class=\"dataframe\">\n",
       "  <thead>\n",
       "    <tr style=\"text-align: right;\">\n",
       "      <th></th>\n",
       "      <th>Close</th>\n",
       "    </tr>\n",
       "  </thead>\n",
       "  <tbody>\n",
       "    <tr>\n",
       "      <th>0</th>\n",
       "      <td>298.591614</td>\n",
       "    </tr>\n",
       "    <tr>\n",
       "      <th>1</th>\n",
       "      <td>303.320221</td>\n",
       "    </tr>\n",
       "    <tr>\n",
       "      <th>2</th>\n",
       "      <td>300.106598</td>\n",
       "    </tr>\n",
       "    <tr>\n",
       "      <th>3</th>\n",
       "      <td>302.447968</td>\n",
       "    </tr>\n",
       "    <tr>\n",
       "      <th>4</th>\n",
       "      <td>298.453888</td>\n",
       "    </tr>\n",
       "    <tr>\n",
       "      <th>...</th>\n",
       "      <td>...</td>\n",
       "    </tr>\n",
       "    <tr>\n",
       "      <th>3222</th>\n",
       "      <td>772.000000</td>\n",
       "    </tr>\n",
       "    <tr>\n",
       "      <th>3223</th>\n",
       "      <td>764.450012</td>\n",
       "    </tr>\n",
       "    <tr>\n",
       "      <th>3224</th>\n",
       "      <td>772.700012</td>\n",
       "    </tr>\n",
       "    <tr>\n",
       "      <th>3225</th>\n",
       "      <td>775.650024</td>\n",
       "    </tr>\n",
       "    <tr>\n",
       "      <th>3226</th>\n",
       "      <td>776.500000</td>\n",
       "    </tr>\n",
       "  </tbody>\n",
       "</table>\n",
       "<p>3227 rows × 1 columns</p>\n",
       "</div>"
      ],
      "text/plain": [
       "           Close\n",
       "0     298.591614\n",
       "1     303.320221\n",
       "2     300.106598\n",
       "3     302.447968\n",
       "4     298.453888\n",
       "...          ...\n",
       "3222  772.000000\n",
       "3223  764.450012\n",
       "3224  772.700012\n",
       "3225  775.650024\n",
       "3226  776.500000\n",
       "\n",
       "[3227 rows x 1 columns]"
      ]
     },
     "execution_count": 53,
     "metadata": {},
     "output_type": "execute_result"
    }
   ],
   "source": [
    "real_data = pd.DataFrame(real_data)\n",
    "real_data"
   ]
  },
  {
   "cell_type": "code",
   "execution_count": null,
   "metadata": {},
   "outputs": [
    {
     "data": {
      "text/plain": [
       "array([0.8365791], dtype=float32)"
      ]
     },
     "execution_count": 109,
     "metadata": {},
     "output_type": "execute_result"
    }
   ],
   "source": [
    "y_predicted[967]"
   ]
  },
  {
   "cell_type": "code",
   "execution_count": null,
   "metadata": {},
   "outputs": [
    {
     "data": {
      "text/plain": [
       "(969,)"
      ]
     },
     "execution_count": 110,
     "metadata": {},
     "output_type": "execute_result"
    }
   ],
   "source": [
    "y_test.shape"
   ]
  },
  {
   "cell_type": "code",
   "execution_count": null,
   "metadata": {},
   "outputs": [
    {
     "data": {
      "text/plain": [
       "0.001590519517367997"
      ]
     },
     "execution_count": 111,
     "metadata": {},
     "output_type": "execute_result"
    }
   ],
   "source": [
    "scaler.scale_[0]"
   ]
  },
  {
   "cell_type": "code",
   "execution_count": null,
   "metadata": {},
   "outputs": [],
   "source": [
    "scale_factor = 1/0.001590519517367997\n",
    "y_predicted = y_predicted * scale_factor\n",
    "preedicted_data = preedicted_data * scale_factor\n",
    "y_test = y_test * scale_factor"
   ]
  },
  {
   "cell_type": "code",
   "execution_count": null,
   "metadata": {},
   "outputs": [
    {
     "data": {
      "text/plain": [
       "array([[ 65.16423],\n",
       "       [ 64.07058],\n",
       "       [ 65.89928],\n",
       "       ...,\n",
       "       [527.0144 ],\n",
       "       [530.677  ],\n",
       "       [534.726  ]], dtype=float32)"
      ]
     },
     "execution_count": 117,
     "metadata": {},
     "output_type": "execute_result"
    }
   ],
   "source": [
    "preedicted_data"
   ]
  },
  {
   "cell_type": "code",
   "execution_count": null,
   "metadata": {},
   "outputs": [
    {
     "data": {
      "text/plain": [
       "(969, 1)"
      ]
     },
     "execution_count": 115,
     "metadata": {},
     "output_type": "execute_result"
    }
   ],
   "source": [
    "y_predicted.shape"
   ]
  },
  {
   "cell_type": "code",
   "execution_count": null,
   "metadata": {},
   "outputs": [
    {
     "data": {
      "image/png": "[encoded data removed]",
      "text/plain": [
       "<Figure size 864x432 with 1 Axes>"
      ]
     },
     "metadata": {
      "needs_background": "light"
     },
     "output_type": "display_data"
    }
   ],
   "source": [
    "plt.figure(figsize=(12,6))\n",
    "plt.plot(y_test,'b',label = 'Original price')\n",
    "plt.plot(y_predicted,'r',label = 'Predicted price')\n",
    "\n",
    "plt.xlabel('time')\n",
    "plt.ylabel('price')\n",
    "\n",
    "plt.legend()\n",
    "\n",
    "plt.show()"
   ]
  },
  {
   "cell_type": "code",
   "execution_count": null,
   "metadata": {},
   "outputs": [],
   "source": []
  }
 ],
 "metadata": {
  "kernelspec": {
   "display_name": "Python 3.9.6 64-bit",
   "language": "python",
   "name": "python3"
  },
  "language_info": {
   "codemirror_mode": {
    "name": "ipython",
    "version": 3
   },
   "file_extension": ".py",
   "mimetype": "text/x-python",
   "name": "python",
   "nbconvert_exporter": "python",
   "pygments_lexer": "ipython3",
   "version": "3.9.6 (tags/v3.9.6:db3ff76, Jun 28 2021, 15:26:21) [MSC v.1929 64 bit (AMD64)]"
  },
  "orig_nbformat": 4,
  "vscode": {
   "interpreter": {
    "hash": "f7608d97510eb413e289a9ba9d2d6d39358a0b182af5f310d2c58353f8e6821a"
   }
  }
 },
 "nbformat": 4,
 "nbformat_minor": 2
}
